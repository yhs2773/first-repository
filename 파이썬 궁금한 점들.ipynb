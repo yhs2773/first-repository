{
 "cells": [
  {
   "cell_type": "code",
   "execution_count": null,
   "id": "c850a3fa",
   "metadata": {},
   "outputs": [],
   "source": [
    "^ = 이진법 계산\n",
    "1^1 = 01\n",
    "      01\n",
    "- 둘 다 같은 값으로 0이 나오기에 이진수 0이 나옴\n",
    "2^5 = 010\n",
    "      101\n",
    "- 둘 다 다르기에 이진수 111이 나와서 값이 7 나옴"
   ]
  },
  {
   "cell_type": "markdown",
   "id": "b99f6bfe",
   "metadata": {},
   "source": [
    "파이썬은 정수 -5에서 256까지에 대해서는 이미 해당 값이 존재하면 기존의 객체를 바인딩하게 합니다.\n",
    "이는 동일 값을 메모리에 여러번 할당함으로써 발생하는 메모리 낭비를 줄이기 위함입니다."
   ]
  },
  {
   "cell_type": "markdown",
   "id": "ce32bddc",
   "metadata": {},
   "source": [
    "Indentation\n",
    "표준 들여쓰기는 2칸, 4칸(탭)\n",
    "다만 들여쓰기만 맞다면, jupyter notebook에선 1칸, 3칸, 여러칸도 가능함"
   ]
  },
  {
   "cell_type": "markdown",
   "id": "d6cf93a8",
   "metadata": {},
   "source": [
    "변수 이름은 원하는 대로 지으면 되지만 다음과 같은 규칙을 지켜야 합니다.\n",
    "\n",
    "- 영문 문자와 숫자를 사용할 수 있습니다.\n",
    "- 대소문자를 구분합니다.\n",
    "- 문자부터 시작해야 하며 숫자부터 시작하면 안 됩니다.\n",
    "- _(밑줄 문자)로 시작할 수 있습니다.\n",
    "- 특수 문자(+, -, *, /, $, @, &, % 등)는 사용할 수 없습니다.\n",
    "- 파이썬의 키워드(if, for, while, and, or 등)는 사용할 수 없습니다."
   ]
  },
  {
   "cell_type": "code",
   "execution_count": null,
   "id": "2ee49f67",
   "metadata": {},
   "outputs": [],
   "source": []
  }
 ],
 "metadata": {
  "kernelspec": {
   "display_name": "Python 3 (ipykernel)",
   "language": "python",
   "name": "python3"
  },
  "language_info": {
   "codemirror_mode": {
    "name": "ipython",
    "version": 3
   },
   "file_extension": ".py",
   "mimetype": "text/x-python",
   "name": "python",
   "nbconvert_exporter": "python",
   "pygments_lexer": "ipython3",
   "version": "3.9.12"
  }
 },
 "nbformat": 4,
 "nbformat_minor": 5
}
