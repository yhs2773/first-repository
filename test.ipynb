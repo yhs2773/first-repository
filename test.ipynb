{
 "cells": [
  {
   "cell_type": "markdown",
   "id": "9fc00d80",
   "metadata": {},
   "source": [
    "파이썬 셸에선, input을 변수에 할당하면 변수를 출력할 때마다 처음 할당한 input값을 입력, 새로운 input을 집어 넣을 순 없음\n",
    "'==' 또는 '!='는 값 자체를 비교하고 is 또는 is not은 객체(object)를 비교한다"
   ]
  },
  {
   "cell_type": "markdown",
   "id": "ed6f4136",
   "metadata": {},
   "source": [
    "특수문자: Shift 1 ~ 9"
   ]
  },
  {
   "cell_type": "markdown",
   "id": "85a3bc9c",
   "metadata": {},
   "source": [
    "'' \"\" '''''' \"\"\"\"\"\"\n",
    "docstring can contain any quotes or double quotes within them"
   ]
  }
 ],
 "metadata": {
  "kernelspec": {
   "display_name": "Python 3 (ipykernel)",
   "language": "python",
   "name": "python3"
  },
  "language_info": {
   "codemirror_mode": {
    "name": "ipython",
    "version": 3
   },
   "file_extension": ".py",
   "mimetype": "text/x-python",
   "name": "python",
   "nbconvert_exporter": "python",
   "pygments_lexer": "ipython3",
   "version": "3.9.7"
  }
 },
 "nbformat": 4,
 "nbformat_minor": 5
}
